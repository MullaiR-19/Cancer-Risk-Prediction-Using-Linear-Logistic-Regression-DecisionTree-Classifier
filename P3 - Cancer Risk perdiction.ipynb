{
 "cells": [
  {
   "cell_type": "code",
   "execution_count": 65,
   "id": "d25f0147",
   "metadata": {},
   "outputs": [],
   "source": [
    "import pandas as pd\n",
    "import numpy as np\n",
    "import matplotlib.pyplot as plt\n",
    "import seaborn as sns\n",
    "from sklearn.preprocessing import StandardScaler\n",
    "from sklearn.model_selection import train_test_split\n",
    "from sklearn.metrics import accuracy_score,confusion_matrix,ConfusionMatrixDisplay,classification_report\n",
    "import warnings\n",
    "warnings.filterwarnings(\"ignore\") "
   ]
  },
  {
   "cell_type": "code",
   "execution_count": 66,
   "id": "4e15cd7c",
   "metadata": {},
   "outputs": [
    {
     "data": {
      "text/html": [
       "<div>\n",
       "<style scoped>\n",
       "    .dataframe tbody tr th:only-of-type {\n",
       "        vertical-align: middle;\n",
       "    }\n",
       "\n",
       "    .dataframe tbody tr th {\n",
       "        vertical-align: top;\n",
       "    }\n",
       "\n",
       "    .dataframe thead th {\n",
       "        text-align: right;\n",
       "    }\n",
       "</style>\n",
       "<table border=\"1\" class=\"dataframe\">\n",
       "  <thead>\n",
       "    <tr style=\"text-align: right;\">\n",
       "      <th></th>\n",
       "      <th>Balanced Diet</th>\n",
       "      <th>Obesity</th>\n",
       "      <th>Smoking</th>\n",
       "      <th>Passive Smoker</th>\n",
       "      <th>Chest Pain</th>\n",
       "      <th>Coughing of Blood</th>\n",
       "      <th>Fatigue</th>\n",
       "      <th>Weight Loss</th>\n",
       "      <th>Shortness of Breath</th>\n",
       "      <th>Wheezing</th>\n",
       "      <th>Swallowing Difficulty</th>\n",
       "      <th>Clubbing of Finger Nails</th>\n",
       "      <th>Frequent Cold</th>\n",
       "      <th>Dry Cough</th>\n",
       "      <th>Snoring</th>\n",
       "      <th>Level</th>\n",
       "    </tr>\n",
       "  </thead>\n",
       "  <tbody>\n",
       "    <tr>\n",
       "      <th>0</th>\n",
       "      <td>2</td>\n",
       "      <td>4</td>\n",
       "      <td>3</td>\n",
       "      <td>2</td>\n",
       "      <td>2</td>\n",
       "      <td>4</td>\n",
       "      <td>3</td>\n",
       "      <td>4</td>\n",
       "      <td>2</td>\n",
       "      <td>2</td>\n",
       "      <td>3</td>\n",
       "      <td>1</td>\n",
       "      <td>2</td>\n",
       "      <td>3</td>\n",
       "      <td>4</td>\n",
       "      <td>Low</td>\n",
       "    </tr>\n",
       "    <tr>\n",
       "      <th>1</th>\n",
       "      <td>2</td>\n",
       "      <td>2</td>\n",
       "      <td>2</td>\n",
       "      <td>4</td>\n",
       "      <td>2</td>\n",
       "      <td>3</td>\n",
       "      <td>1</td>\n",
       "      <td>3</td>\n",
       "      <td>7</td>\n",
       "      <td>8</td>\n",
       "      <td>6</td>\n",
       "      <td>2</td>\n",
       "      <td>1</td>\n",
       "      <td>7</td>\n",
       "      <td>2</td>\n",
       "      <td>Medium</td>\n",
       "    </tr>\n",
       "    <tr>\n",
       "      <th>2</th>\n",
       "      <td>6</td>\n",
       "      <td>7</td>\n",
       "      <td>2</td>\n",
       "      <td>3</td>\n",
       "      <td>4</td>\n",
       "      <td>8</td>\n",
       "      <td>8</td>\n",
       "      <td>7</td>\n",
       "      <td>9</td>\n",
       "      <td>2</td>\n",
       "      <td>1</td>\n",
       "      <td>4</td>\n",
       "      <td>6</td>\n",
       "      <td>7</td>\n",
       "      <td>2</td>\n",
       "      <td>High</td>\n",
       "    </tr>\n",
       "    <tr>\n",
       "      <th>3</th>\n",
       "      <td>7</td>\n",
       "      <td>7</td>\n",
       "      <td>7</td>\n",
       "      <td>7</td>\n",
       "      <td>7</td>\n",
       "      <td>8</td>\n",
       "      <td>4</td>\n",
       "      <td>2</td>\n",
       "      <td>3</td>\n",
       "      <td>1</td>\n",
       "      <td>4</td>\n",
       "      <td>5</td>\n",
       "      <td>6</td>\n",
       "      <td>7</td>\n",
       "      <td>5</td>\n",
       "      <td>High</td>\n",
       "    </tr>\n",
       "    <tr>\n",
       "      <th>4</th>\n",
       "      <td>7</td>\n",
       "      <td>7</td>\n",
       "      <td>8</td>\n",
       "      <td>7</td>\n",
       "      <td>7</td>\n",
       "      <td>9</td>\n",
       "      <td>3</td>\n",
       "      <td>2</td>\n",
       "      <td>4</td>\n",
       "      <td>1</td>\n",
       "      <td>4</td>\n",
       "      <td>2</td>\n",
       "      <td>4</td>\n",
       "      <td>2</td>\n",
       "      <td>3</td>\n",
       "      <td>High</td>\n",
       "    </tr>\n",
       "  </tbody>\n",
       "</table>\n",
       "</div>"
      ],
      "text/plain": [
       "   Balanced Diet  Obesity  Smoking  Passive Smoker  Chest Pain  \\\n",
       "0              2        4        3               2           2   \n",
       "1              2        2        2               4           2   \n",
       "2              6        7        2               3           4   \n",
       "3              7        7        7               7           7   \n",
       "4              7        7        8               7           7   \n",
       "\n",
       "   Coughing of Blood  Fatigue  Weight Loss  Shortness of Breath  Wheezing  \\\n",
       "0                  4        3            4                    2         2   \n",
       "1                  3        1            3                    7         8   \n",
       "2                  8        8            7                    9         2   \n",
       "3                  8        4            2                    3         1   \n",
       "4                  9        3            2                    4         1   \n",
       "\n",
       "   Swallowing Difficulty  Clubbing of Finger Nails  Frequent Cold  Dry Cough  \\\n",
       "0                      3                         1              2          3   \n",
       "1                      6                         2              1          7   \n",
       "2                      1                         4              6          7   \n",
       "3                      4                         5              6          7   \n",
       "4                      4                         2              4          2   \n",
       "\n",
       "   Snoring   Level  \n",
       "0        4     Low  \n",
       "1        2  Medium  \n",
       "2        2    High  \n",
       "3        5    High  \n",
       "4        3    High  "
      ]
     },
     "execution_count": 66,
     "metadata": {},
     "output_type": "execute_result"
    }
   ],
   "source": [
    "cancer_data = pd.read_csv(r\"Cancer Risk perdiction dataset\\cancer patient data sets.csv\")\n",
    "cancer_data.iloc[:,10:].head()\n",
    "#Numatical Dataset with 26 columns"
   ]
  },
  {
   "cell_type": "code",
   "execution_count": 67,
   "id": "462a17c2",
   "metadata": {},
   "outputs": [
    {
     "name": "stdout",
     "output_type": "stream",
     "text": [
      "26\n",
      "Index(['index', 'Patient Id', 'Age', 'Gender', 'Air Pollution', 'Alcohol use',\n",
      "       'Dust Allergy', 'OccuPational Hazards', 'Genetic Risk',\n",
      "       'chronic Lung Disease', 'Balanced Diet', 'Obesity', 'Smoking',\n",
      "       'Passive Smoker', 'Chest Pain', 'Coughing of Blood', 'Fatigue',\n",
      "       'Weight Loss', 'Shortness of Breath', 'Wheezing',\n",
      "       'Swallowing Difficulty', 'Clubbing of Finger Nails', 'Frequent Cold',\n",
      "       'Dry Cough', 'Snoring', 'Level'],\n",
      "      dtype='object')\n"
     ]
    }
   ],
   "source": [
    "print(len(cancer_data.columns))\n",
    "print(cancer_data.columns)"
   ]
  },
  {
   "cell_type": "code",
   "execution_count": 68,
   "id": "4289829c",
   "metadata": {},
   "outputs": [
    {
     "data": {
      "text/html": [
       "<div>\n",
       "<style scoped>\n",
       "    .dataframe tbody tr th:only-of-type {\n",
       "        vertical-align: middle;\n",
       "    }\n",
       "\n",
       "    .dataframe tbody tr th {\n",
       "        vertical-align: top;\n",
       "    }\n",
       "\n",
       "    .dataframe thead th {\n",
       "        text-align: right;\n",
       "    }\n",
       "</style>\n",
       "<table border=\"1\" class=\"dataframe\">\n",
       "  <thead>\n",
       "    <tr style=\"text-align: right;\">\n",
       "      <th></th>\n",
       "      <th>Age</th>\n",
       "      <th>Gender</th>\n",
       "      <th>Air Pollution</th>\n",
       "      <th>Alcohol use</th>\n",
       "      <th>Dust Allergy</th>\n",
       "      <th>OccuPational Hazards</th>\n",
       "      <th>Genetic Risk</th>\n",
       "      <th>chronic Lung Disease</th>\n",
       "      <th>Balanced Diet</th>\n",
       "      <th>Obesity</th>\n",
       "      <th>...</th>\n",
       "      <th>Fatigue</th>\n",
       "      <th>Weight Loss</th>\n",
       "      <th>Shortness of Breath</th>\n",
       "      <th>Wheezing</th>\n",
       "      <th>Swallowing Difficulty</th>\n",
       "      <th>Clubbing of Finger Nails</th>\n",
       "      <th>Frequent Cold</th>\n",
       "      <th>Dry Cough</th>\n",
       "      <th>Snoring</th>\n",
       "      <th>Level</th>\n",
       "    </tr>\n",
       "  </thead>\n",
       "  <tbody>\n",
       "    <tr>\n",
       "      <th>0</th>\n",
       "      <td>33</td>\n",
       "      <td>1</td>\n",
       "      <td>2</td>\n",
       "      <td>4</td>\n",
       "      <td>5</td>\n",
       "      <td>4</td>\n",
       "      <td>3</td>\n",
       "      <td>2</td>\n",
       "      <td>2</td>\n",
       "      <td>4</td>\n",
       "      <td>...</td>\n",
       "      <td>3</td>\n",
       "      <td>4</td>\n",
       "      <td>2</td>\n",
       "      <td>2</td>\n",
       "      <td>3</td>\n",
       "      <td>1</td>\n",
       "      <td>2</td>\n",
       "      <td>3</td>\n",
       "      <td>4</td>\n",
       "      <td>1</td>\n",
       "    </tr>\n",
       "    <tr>\n",
       "      <th>1</th>\n",
       "      <td>17</td>\n",
       "      <td>1</td>\n",
       "      <td>3</td>\n",
       "      <td>1</td>\n",
       "      <td>5</td>\n",
       "      <td>3</td>\n",
       "      <td>4</td>\n",
       "      <td>2</td>\n",
       "      <td>2</td>\n",
       "      <td>2</td>\n",
       "      <td>...</td>\n",
       "      <td>1</td>\n",
       "      <td>3</td>\n",
       "      <td>7</td>\n",
       "      <td>8</td>\n",
       "      <td>6</td>\n",
       "      <td>2</td>\n",
       "      <td>1</td>\n",
       "      <td>7</td>\n",
       "      <td>2</td>\n",
       "      <td>2</td>\n",
       "    </tr>\n",
       "    <tr>\n",
       "      <th>2</th>\n",
       "      <td>35</td>\n",
       "      <td>1</td>\n",
       "      <td>4</td>\n",
       "      <td>5</td>\n",
       "      <td>6</td>\n",
       "      <td>5</td>\n",
       "      <td>5</td>\n",
       "      <td>4</td>\n",
       "      <td>6</td>\n",
       "      <td>7</td>\n",
       "      <td>...</td>\n",
       "      <td>8</td>\n",
       "      <td>7</td>\n",
       "      <td>9</td>\n",
       "      <td>2</td>\n",
       "      <td>1</td>\n",
       "      <td>4</td>\n",
       "      <td>6</td>\n",
       "      <td>7</td>\n",
       "      <td>2</td>\n",
       "      <td>3</td>\n",
       "    </tr>\n",
       "    <tr>\n",
       "      <th>3</th>\n",
       "      <td>37</td>\n",
       "      <td>1</td>\n",
       "      <td>7</td>\n",
       "      <td>7</td>\n",
       "      <td>7</td>\n",
       "      <td>7</td>\n",
       "      <td>6</td>\n",
       "      <td>7</td>\n",
       "      <td>7</td>\n",
       "      <td>7</td>\n",
       "      <td>...</td>\n",
       "      <td>4</td>\n",
       "      <td>2</td>\n",
       "      <td>3</td>\n",
       "      <td>1</td>\n",
       "      <td>4</td>\n",
       "      <td>5</td>\n",
       "      <td>6</td>\n",
       "      <td>7</td>\n",
       "      <td>5</td>\n",
       "      <td>3</td>\n",
       "    </tr>\n",
       "    <tr>\n",
       "      <th>4</th>\n",
       "      <td>46</td>\n",
       "      <td>1</td>\n",
       "      <td>6</td>\n",
       "      <td>8</td>\n",
       "      <td>7</td>\n",
       "      <td>7</td>\n",
       "      <td>7</td>\n",
       "      <td>6</td>\n",
       "      <td>7</td>\n",
       "      <td>7</td>\n",
       "      <td>...</td>\n",
       "      <td>3</td>\n",
       "      <td>2</td>\n",
       "      <td>4</td>\n",
       "      <td>1</td>\n",
       "      <td>4</td>\n",
       "      <td>2</td>\n",
       "      <td>4</td>\n",
       "      <td>2</td>\n",
       "      <td>3</td>\n",
       "      <td>3</td>\n",
       "    </tr>\n",
       "  </tbody>\n",
       "</table>\n",
       "<p>5 rows × 24 columns</p>\n",
       "</div>"
      ],
      "text/plain": [
       "   Age  Gender  Air Pollution  Alcohol use  Dust Allergy  \\\n",
       "0   33       1              2            4             5   \n",
       "1   17       1              3            1             5   \n",
       "2   35       1              4            5             6   \n",
       "3   37       1              7            7             7   \n",
       "4   46       1              6            8             7   \n",
       "\n",
       "   OccuPational Hazards  Genetic Risk  chronic Lung Disease  Balanced Diet  \\\n",
       "0                     4             3                     2              2   \n",
       "1                     3             4                     2              2   \n",
       "2                     5             5                     4              6   \n",
       "3                     7             6                     7              7   \n",
       "4                     7             7                     6              7   \n",
       "\n",
       "   Obesity  ...  Fatigue  Weight Loss  Shortness of Breath  Wheezing  \\\n",
       "0        4  ...        3            4                    2         2   \n",
       "1        2  ...        1            3                    7         8   \n",
       "2        7  ...        8            7                    9         2   \n",
       "3        7  ...        4            2                    3         1   \n",
       "4        7  ...        3            2                    4         1   \n",
       "\n",
       "   Swallowing Difficulty  Clubbing of Finger Nails  Frequent Cold  Dry Cough  \\\n",
       "0                      3                         1              2          3   \n",
       "1                      6                         2              1          7   \n",
       "2                      1                         4              6          7   \n",
       "3                      4                         5              6          7   \n",
       "4                      4                         2              4          2   \n",
       "\n",
       "   Snoring  Level  \n",
       "0        4      1  \n",
       "1        2      2  \n",
       "2        2      3  \n",
       "3        5      3  \n",
       "4        3      3  \n",
       "\n",
       "[5 rows x 24 columns]"
      ]
     },
     "execution_count": 68,
     "metadata": {},
     "output_type": "execute_result"
    }
   ],
   "source": [
    "#Replacing Prediction output(Column: Level) to numeric values and removing wanted columns\n",
    "cancer_data = cancer_data.drop(['index','Patient Id',],axis=1)\n",
    "cancer_data['Level'] = cancer_data['Level'].replace({'Low':1,'Medium':2,'High':3})\n",
    "risk_level = ['Low','Medium','High']\n",
    "cancer_data.head()"
   ]
  },
  {
   "cell_type": "code",
   "execution_count": 69,
   "id": "12a7ec44",
   "metadata": {},
   "outputs": [
    {
     "data": {
      "text/plain": [
       "Age                         0\n",
       "Gender                      0\n",
       "Air Pollution               0\n",
       "Alcohol use                 0\n",
       "Dust Allergy                0\n",
       "OccuPational Hazards        0\n",
       "Genetic Risk                0\n",
       "chronic Lung Disease        0\n",
       "Balanced Diet               0\n",
       "Obesity                     0\n",
       "Smoking                     0\n",
       "Passive Smoker              0\n",
       "Chest Pain                  0\n",
       "Coughing of Blood           0\n",
       "Fatigue                     0\n",
       "Weight Loss                 0\n",
       "Shortness of Breath         0\n",
       "Wheezing                    0\n",
       "Swallowing Difficulty       0\n",
       "Clubbing of Finger Nails    0\n",
       "Frequent Cold               0\n",
       "Dry Cough                   0\n",
       "Snoring                     0\n",
       "Level                       0\n",
       "dtype: int64"
      ]
     },
     "execution_count": 69,
     "metadata": {},
     "output_type": "execute_result"
    }
   ],
   "source": [
    "#Checking for NAN values\n",
    "cancer_data.isna().sum()"
   ]
  },
  {
   "cell_type": "code",
   "execution_count": 70,
   "id": "8aa180f3",
   "metadata": {},
   "outputs": [
    {
     "data": {
      "text/plain": [
       "<AxesSubplot:ylabel='Density'>"
      ]
     },
     "execution_count": 70,
     "metadata": {},
     "output_type": "execute_result"
    },
    {
     "data": {
      "image/png": "[encoded data removed]",
      "text/plain": [
       "<Figure size 1008x360 with 1 Axes>"
      ]
     },
     "metadata": {},
     "output_type": "display_data"
    }
   ],
   "source": [
    "fig, ax = plt.subplots(figsize=(14, 5))\n",
    "sns.distplot(cancer_data,x=cancer_data['Level'])"
   ]
  },
  {
   "cell_type": "code",
   "execution_count": 71,
   "id": "1673474b",
   "metadata": {},
   "outputs": [
    {
     "data": {
      "text/plain": [
       "<AxesSubplot:xlabel='Air Pollution', ylabel='Level'>"
      ]
     },
     "execution_count": 71,
     "metadata": {},
     "output_type": "execute_result"
    },
    {
     "data": {
      "image/png": "[encoded data removed]",
      "text/plain": [
       "<Figure size 1440x720 with 6 Axes>"
      ]
     },
     "metadata": {},
     "output_type": "display_data"
    }
   ],
   "source": [
    "#visualizing data \n",
    "fig,ax = plt.subplots(2,3,figsize=(20,10))\n",
    "sns.set_style('whitegrid')\n",
    "sns.boxplot(x=cancer_data['Gender'],y=cancer_data['Age'],ax=ax[0,0])\n",
    "sns.histplot(x=cancer_data['Alcohol use'],y=cancer_data['Age'],ax=ax[0,1], hue=cancer_data['Level'])\n",
    "sns.scatterplot(x=cancer_data['OccuPational Hazards'],y=cancer_data['Age'],ax=ax[1,0],hue=cancer_data['Level'])\n",
    "sns.scatterplot(x=cancer_data['Alcohol use'],y=cancer_data['Age'],ax=ax[1,1],hue=cancer_data['Level'],palette='autumn')\n",
    "sns.lineplot(x=cancer_data['Air Pollution'],y=cancer_data['chronic Lung Disease'],ax=ax[0,2],color='y')\n",
    "sns.lineplot(x=cancer_data['Air Pollution'],y=cancer_data['Level'],ax=ax[1,2],color='m')"
   ]
  },
  {
   "cell_type": "code",
   "execution_count": 72,
   "id": "cec02da7",
   "metadata": {},
   "outputs": [],
   "source": [
    "# Separting data to X and Y(Input and outcome)"
   ]
  },
  {
   "cell_type": "code",
   "execution_count": 73,
   "id": "742af2da",
   "metadata": {},
   "outputs": [
    {
     "name": "stdout",
     "output_type": "stream",
     "text": [
      "<class 'pandas.core.frame.DataFrame'>\n",
      "Int64Index: 1000 entries, 0 to 999\n",
      "Data columns (total 24 columns):\n",
      " #   Column                    Non-Null Count  Dtype\n",
      "---  ------                    --------------  -----\n",
      " 0   Age                       1000 non-null   int64\n",
      " 1   Gender                    1000 non-null   int64\n",
      " 2   Air Pollution             1000 non-null   int64\n",
      " 3   Alcohol use               1000 non-null   int64\n",
      " 4   Dust Allergy              1000 non-null   int64\n",
      " 5   OccuPational Hazards      1000 non-null   int64\n",
      " 6   Genetic Risk              1000 non-null   int64\n",
      " 7   chronic Lung Disease      1000 non-null   int64\n",
      " 8   Balanced Diet             1000 non-null   int64\n",
      " 9   Obesity                   1000 non-null   int64\n",
      " 10  Smoking                   1000 non-null   int64\n",
      " 11  Passive Smoker            1000 non-null   int64\n",
      " 12  Chest Pain                1000 non-null   int64\n",
      " 13  Coughing of Blood         1000 non-null   int64\n",
      " 14  Fatigue                   1000 non-null   int64\n",
      " 15  Weight Loss               1000 non-null   int64\n",
      " 16  Shortness of Breath       1000 non-null   int64\n",
      " 17  Wheezing                  1000 non-null   int64\n",
      " 18  Swallowing Difficulty     1000 non-null   int64\n",
      " 19  Clubbing of Finger Nails  1000 non-null   int64\n",
      " 20  Frequent Cold             1000 non-null   int64\n",
      " 21  Dry Cough                 1000 non-null   int64\n",
      " 22  Snoring                   1000 non-null   int64\n",
      " 23  Level                     1000 non-null   int64\n",
      "dtypes: int64(24)\n",
      "memory usage: 195.3 KB\n"
     ]
    },
    {
     "data": {
      "text/plain": [
       "Index(['Age', 'Gender', 'Air Pollution', 'Alcohol use', 'Dust Allergy',\n",
       "       'OccuPational Hazards', 'Genetic Risk', 'chronic Lung Disease',\n",
       "       'Balanced Diet', 'Obesity', 'Smoking', 'Passive Smoker', 'Chest Pain',\n",
       "       'Coughing of Blood', 'Fatigue', 'Weight Loss', 'Shortness of Breath',\n",
       "       'Wheezing', 'Swallowing Difficulty', 'Clubbing of Finger Nails',\n",
       "       'Frequent Cold', 'Dry Cough', 'Snoring', 'Level'],\n",
       "      dtype='object')"
      ]
     },
     "execution_count": 73,
     "metadata": {},
     "output_type": "execute_result"
    }
   ],
   "source": [
    "#for i in range(1,24):\n",
    "    #print(cancer_data.iloc[:,i].unique())\n",
    "cancer_data = cancer_data.sort_values(by='Level')\n",
    "cancer_data.info()\n",
    "cancer_data.head()\n",
    "cancer_data.tail()\n",
    "X = cancer_data.iloc[:,:23]\n",
    "Y = cancer_data.iloc[:,23]\n",
    "X.head()\n",
    "Y.head()\n",
    "cancer_data.columns"
   ]
  },
  {
   "cell_type": "code",
   "execution_count": 74,
   "id": "46a4dd18",
   "metadata": {},
   "outputs": [],
   "source": [
    "#Splitting model to train and test data\n",
    "xTrain, xTest, yTrain, yTest = train_test_split(X,Y,random_state=10,test_size=0.25)"
   ]
  },
  {
   "cell_type": "code",
   "execution_count": 75,
   "id": "41111a1e",
   "metadata": {},
   "outputs": [],
   "source": [
    "#Using SVM classification Algorithm\n",
    "from sklearn.svm import SVC\n",
    "svc_model = SVC(kernel='linear',C=1E10)"
   ]
  },
  {
   "cell_type": "code",
   "execution_count": 76,
   "id": "4516675e",
   "metadata": {},
   "outputs": [
    {
     "data": {
      "text/plain": [
       "SVC(C=10000000000.0, kernel='linear')"
      ]
     },
     "execution_count": 76,
     "metadata": {},
     "output_type": "execute_result"
    }
   ],
   "source": [
    "svc_model.fit(xTrain,yTrain)"
   ]
  },
  {
   "cell_type": "code",
   "execution_count": 77,
   "id": "c869cfee",
   "metadata": {},
   "outputs": [
    {
     "name": "stdout",
     "output_type": "stream",
     "text": [
      "Model Acc: 100.0 %\n"
     ]
    }
   ],
   "source": [
    "svc_model_predict = svc_model.predict(xTest)\n",
    "print('Model Acc:',svc_model.score(xTest,yTest)*100,'%')"
   ]
  },
  {
   "cell_type": "code",
   "execution_count": 78,
   "id": "166c60fa",
   "metadata": {},
   "outputs": [
    {
     "name": "stdout",
     "output_type": "stream",
     "text": [
      "SVM Classifire: 2 \n",
      " 2\n"
     ]
    }
   ],
   "source": [
    "#Manual Predition\n",
    "test_data = np.array(cancer_data.iloc[350,:23]).reshape(1,-1)\n",
    "print(\"SVM Classifire:\",round(svc_model.predict(test_data)[0]),'\\n',cancer_data.iloc[350,23])"
   ]
  },
  {
   "cell_type": "code",
   "execution_count": 229,
   "id": "7a527ddf",
   "metadata": {},
   "outputs": [],
   "source": [
    "#Trying Kmeans Clustring\n",
    "#Finding Cluster size using Elbow method\n",
    "#Creating a binary classification for better result \n",
    "cancer_data_binary_class = cancer_data[cancer_data.Level !=2]\n",
    "cancer_data_binary_class.head()\n",
    "X_bin = cancer_data_binary_class.drop('Level',axis=1)\n",
    "Y_bin = cancer_data_binary_class['Level']\n",
    "x_train,x_test,y_train,y_test = train_test_split(X_bin,Y_bin,random_state=40,test_size=1/4)"
   ]
  },
  {
   "cell_type": "code",
   "execution_count": 230,
   "id": "48980741",
   "metadata": {},
   "outputs": [
    {
     "data": {
      "text/plain": [
       "[<matplotlib.lines.Line2D at 0x1aab5f09ac0>]"
      ]
     },
     "execution_count": 230,
     "metadata": {},
     "output_type": "execute_result"
    },
    {
     "data": {
      "image/png": "[encoded data removed]",
      "text/plain": [
       "<Figure size 432x288 with 1 Axes>"
      ]
     },
     "metadata": {},
     "output_type": "display_data"
    }
   ],
   "source": [
    "from sklearn.cluster import KMeans\n",
    "#finding cluster size\n",
    "data = []\n",
    "for i in range(1,10):\n",
    "    kmc = KMeans(n_clusters=i)\n",
    "    kmc.fit(X_bin,Y_bin)\n",
    "    data.append(kmc.inertia_)\n",
    "plt.plot(data)"
   ]
  },
  {
   "cell_type": "code",
   "execution_count": 241,
   "id": "f4693c07",
   "metadata": {},
   "outputs": [],
   "source": [
    "kmc_model = KMeans(n_clusters=2)"
   ]
  },
  {
   "cell_type": "code",
   "execution_count": 242,
   "id": "34c488df",
   "metadata": {},
   "outputs": [
    {
     "data": {
      "text/plain": [
       "KMeans(n_clusters=2)"
      ]
     },
     "execution_count": 242,
     "metadata": {},
     "output_type": "execute_result"
    }
   ],
   "source": [
    "kmc_model.fit(x_train,y_train)"
   ]
  },
  {
   "cell_type": "code",
   "execution_count": 243,
   "id": "aaaa4fed",
   "metadata": {},
   "outputs": [
    {
     "data": {
      "text/plain": [
       "<matplotlib.collections.PathCollection at 0x1aab6170730>"
      ]
     },
     "execution_count": 243,
     "metadata": {},
     "output_type": "execute_result"
    },
    {
     "data": {
      "image/png": "[encoded data removed]",
      "text/plain": [
       "<Figure size 432x288 with 1 Axes>"
      ]
     },
     "metadata": {},
     "output_type": "display_data"
    }
   ],
   "source": [
    "kmc_y_predict = kmc_model.predict(x_test)\n",
    "plt.scatter(kmc_model.cluster_centers_[:, 0], kmc_model.cluster_centers_[:, 1], s = 200, c = 'red')"
   ]
  },
  {
   "cell_type": "code",
   "execution_count": 244,
   "id": "dc5f69a8",
   "metadata": {},
   "outputs": [
    {
     "name": "stdout",
     "output_type": "stream",
     "text": [
      "Accuracy_score: 0.32934131736526945 \n",
      "Classification_report:\n",
      "               precision    recall  f1-score   support\n",
      "\n",
      "           0       0.00      0.00      0.00        50\n",
      "           1       0.71      0.47      0.57       117\n",
      "           3       0.00      0.00      0.00         0\n",
      "\n",
      "    accuracy                           0.33       167\n",
      "   macro avg       0.24      0.16      0.19       167\n",
      "weighted avg       0.50      0.33      0.40       167\n",
      " \n",
      "Confusion_matrix:\n",
      " [[ 0 22 28]\n",
      " [ 0 55 62]\n",
      " [ 0  0  0]]\n"
     ]
    },
    {
     "data": {
      "text/plain": [
       "<sklearn.metrics._plot.confusion_matrix.ConfusionMatrixDisplay at 0x1aab5e781c0>"
      ]
     },
     "execution_count": 244,
     "metadata": {},
     "output_type": "execute_result"
    },
    {
     "data": {
      "image/png": "[encoded data removed]",
      "text/plain": [
       "<Figure size 432x288 with 2 Axes>"
      ]
     },
     "metadata": {},
     "output_type": "display_data"
    }
   ],
   "source": [
    "print('Accuracy_score:',accuracy_score(kmc_y_predict,y_test),'\\nClassification_report:\\n',classification_report(kmc_y_predict,y_test),'\\nConfusion_matrix:\\n',confusion_matrix(kmc_y_predict,y_test))\n",
    "matrix_plot = ConfusionMatrixDisplay(confusion_matrix=confusion_matrix(kmc_y_predict,y_test))\n",
    "matrix_plot.plot()\n",
    "\n",
    "# model failed due to under fitting"
   ]
  },
  {
   "cell_type": "code",
   "execution_count": 245,
   "id": "839d5fe4",
   "metadata": {},
   "outputs": [],
   "source": [
    "#using decisoin treeabsfrom sklearn.tree import DecisionTreeClassifier\n",
    "from sklearn.tree import DecisionTreeClassifier\n",
    "dec_entro = DecisionTreeClassifier(criterion='entropy',random_state=10,max_depth=5,min_samples_leaf=12)\n",
    "dec_gini = DecisionTreeClassifier(criterion='gini',random_state=10,max_depth=5,min_samples_leaf=12)"
   ]
  },
  {
   "cell_type": "code",
   "execution_count": 251,
   "id": "42078a68",
   "metadata": {},
   "outputs": [
    {
     "data": {
      "text/plain": [
       "DecisionTreeClassifier(max_depth=5, min_samples_leaf=12, random_state=10)"
      ]
     },
     "execution_count": 251,
     "metadata": {},
     "output_type": "execute_result"
    }
   ],
   "source": [
    "dec_gini.fit(x_train,y_train)"
   ]
  },
  {
   "cell_type": "code",
   "execution_count": 252,
   "id": "b52b0344",
   "metadata": {},
   "outputs": [],
   "source": [
    "y_pred_gini = dec_gini.predict(x_test)"
   ]
  },
  {
   "cell_type": "code",
   "execution_count": 253,
   "id": "be8c56bb",
   "metadata": {},
   "outputs": [
    {
     "name": "stdout",
     "output_type": "stream",
     "text": [
      "acc score(gini): 0.9520958083832335 \n",
      "conf mat(gini):\n",
      " [[69  8]\n",
      " [ 0 90]] \n",
      " \n",
      "class report(gini):\n",
      "               precision    recall  f1-score   support\n",
      "\n",
      "           1       1.00      0.90      0.95        77\n",
      "           3       0.92      1.00      0.96        90\n",
      "\n",
      "    accuracy                           0.95       167\n",
      "   macro avg       0.96      0.95      0.95       167\n",
      "weighted avg       0.96      0.95      0.95       167\n",
      "\n"
     ]
    }
   ],
   "source": [
    "print(\"acc score(gini):\",accuracy_score(y_test,y_pred_gini),'\\nconf mat(gini):\\n',\n",
    "      confusion_matrix(y_test,y_pred_gini),'\\n',\n",
    "     '\\nclass report(gini):\\n',classification_report(y_test,y_pred_gini))"
   ]
  },
  {
   "cell_type": "code",
   "execution_count": 261,
   "id": "6c3053b5",
   "metadata": {},
   "outputs": [
    {
     "name": "stdout",
     "output_type": "stream",
     "text": [
      "Dec Gini Classification: 1 \n",
      " Actual Prediction 1\n"
     ]
    }
   ],
   "source": [
    "#Manual Predition\n",
    "test_data = np.array(cancer_data.iloc[10,:23]).reshape(1,-1)\n",
    "print(\"Dec Gini Classification:\",(dec_gini.predict(test_data)[0]),'\\n','Actual Prediction',cancer_data.iloc[10,23])\n",
    "#Decission Tree Classifire gave good output with accuracy of 97% in both critation "
   ]
  },
  {
   "cell_type": "code",
   "execution_count": 95,
   "id": "81e960fa",
   "metadata": {},
   "outputs": [],
   "source": [
    "#using Logistric Regression"
   ]
  },
  {
   "cell_type": "code",
   "execution_count": 96,
   "id": "1245ca8e",
   "metadata": {},
   "outputs": [],
   "source": [
    "from sklearn.linear_model import LogisticRegression\n",
    "log_reg = LogisticRegression()"
   ]
  },
  {
   "cell_type": "code",
   "execution_count": 97,
   "id": "4aabee1b",
   "metadata": {},
   "outputs": [
    {
     "data": {
      "text/plain": [
       "LogisticRegression()"
      ]
     },
     "execution_count": 97,
     "metadata": {},
     "output_type": "execute_result"
    }
   ],
   "source": [
    "log_reg.fit(xTrain,yTrain)"
   ]
  },
  {
   "cell_type": "code",
   "execution_count": 262,
   "id": "82d5ebab",
   "metadata": {},
   "outputs": [
    {
     "name": "stdout",
     "output_type": "stream",
     "text": [
      "98.8 %\n"
     ]
    }
   ],
   "source": [
    "print(log_reg.score(xTest,yTest)*100,'%')"
   ]
  },
  {
   "cell_type": "code",
   "execution_count": 263,
   "id": "e04dc4fe",
   "metadata": {},
   "outputs": [
    {
     "name": "stdout",
     "output_type": "stream",
     "text": [
      "92.8196848146008 %\n"
     ]
    }
   ],
   "source": [
    "#Using SMV regressor\n",
    "from sklearn.svm import SVR\n",
    "svr_model = SVR(kernel='poly')\n",
    "svr_model.fit(xTrain,yTrain)\n",
    "print(svr_model.score(xTest,yTest)*100,'%')"
   ]
  },
  {
   "cell_type": "code",
   "execution_count": 99,
   "id": "51c84003",
   "metadata": {},
   "outputs": [],
   "source": [
    "from sklearn.linear_model import LinearRegression\n",
    "liner_model = LinearRegression()"
   ]
  },
  {
   "cell_type": "code",
   "execution_count": 100,
   "id": "307b7f00",
   "metadata": {},
   "outputs": [
    {
     "data": {
      "text/plain": [
       "LinearRegression()"
      ]
     },
     "execution_count": 100,
     "metadata": {},
     "output_type": "execute_result"
    }
   ],
   "source": [
    "liner_model.fit(xTrain,yTrain)"
   ]
  },
  {
   "cell_type": "code",
   "execution_count": 101,
   "id": "5c3684af",
   "metadata": {},
   "outputs": [
    {
     "name": "stdout",
     "output_type": "stream",
     "text": [
      "91.91728571590903 %\n"
     ]
    }
   ],
   "source": [
    "print(liner_model.score(xTest,yTest)*100,'%')"
   ]
  },
  {
   "cell_type": "code",
   "execution_count": 102,
   "id": "267838de",
   "metadata": {},
   "outputs": [
    {
     "name": "stdout",
     "output_type": "stream",
     "text": [
      "Actual Prediction: 2\n",
      "Linear Regression: 2 \n",
      "Logistric Regression: 2\n"
     ]
    }
   ],
   "source": [
    "#Manual Predition\n",
    "test_data = np.array(cancer_data.iloc[350,:23]).reshape(1,-1)\n",
    "print('Actual Prediction:',cancer_data.iloc[350,23])\n",
    "print(\"Linear Regression:\",round(liner_model.predict(test_data)[0]),'\\nLogistric Regression:',log_reg.predict(test_data)[0])"
   ]
  },
  {
   "attachments": {},
   "cell_type": "markdown",
   "id": "8cf90ada",
   "metadata": {},
   "source": [
    "Using Different algorithams it seems like Regression working good with this dataset \n",
    "and \"Logistric Regression\" have high accuracy upto 98.8% followed by SVR with 92.8%\n",
    "\n",
    "Classification algorithams K-Means have <50% acc so the model is failed using under fitting\n",
    "Decession Tree with 2 features using gini critation have 95% of accuracy which can predict LOW and High risk condtion"
   ]
  },
  {
   "cell_type": "code",
   "execution_count": null,
   "id": "c09a7e0b",
   "metadata": {},
   "outputs": [],
   "source": []
  }
 ],
 "metadata": {
  "kernelspec": {
   "display_name": "Python 3 (ipykernel)",
   "language": "python",
   "name": "python3"
  },
  "language_info": {
   "codemirror_mode": {
    "name": "ipython",
    "version": 3
   },
   "file_extension": ".py",
   "mimetype": "text/x-python",
   "name": "python",
   "nbconvert_exporter": "python",
   "pygments_lexer": "ipython3",
   "version": "3.9.12"
  }
 },
 "nbformat": 4,
 "nbformat_minor": 5
}
